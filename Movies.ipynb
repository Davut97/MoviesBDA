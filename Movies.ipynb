{
 "cells": [
  {
   "cell_type": "code",
   "execution_count": 1,
   "metadata": {
    "collapsed": true,
    "pycharm": {
     "is_executing": false
    }
   },
   "outputs": [
    {
     "data": {
      "text/plain": "{'Title': 'Avengers: Endgame',\n 'Year': '2019',\n 'Rated': 'PG-13',\n 'Released': '26 Apr 2019',\n 'Runtime': '181 min',\n 'Genre': 'Action, Adventure, Sci-Fi',\n 'Director': 'Anthony Russo, Joe Russo',\n 'Writer': 'Christopher Markus (screenplay by), Stephen McFeely (screenplay by), Stan Lee (based on the Marvel comics by), Jack Kirby (based on the Marvel comics by), Jim Starlin (Thanos,  Gamora & Drax created by), Jack Kirby (Groot created by)',\n 'Actors': 'Robert Downey Jr., Chris Evans, Mark Ruffalo, Chris Hemsworth',\n 'Plot': \"After the devastating events of Avengers: Infinity War (2018), the universe is in ruins. With the help of remaining allies, the Avengers assemble once more in order to reverse Thanos' actions and restore balance to the universe.\",\n 'Language': 'English, Japanese, Xhosa',\n 'Country': 'USA, UK, Canada',\n 'Awards': 'N/A',\n 'Poster': 'https://m.media-amazon.com/images/M/MV5BMTc5MDE2ODcwNV5BMl5BanBnXkFtZTgwMzI2NzQ2NzM@._V1_SX300.jpg',\n 'Ratings': [{'Source': 'Internet Movie Database', 'Value': '8.6/10'},\n  {'Source': 'Rotten Tomatoes', 'Value': '94%'},\n  {'Source': 'Metacritic', 'Value': '78/100'}],\n 'Metascore': '78',\n 'imdbRating': '8.6',\n 'imdbVotes': '561,813',\n 'imdbID': 'tt4154796',\n 'Type': 'movie',\n 'DVD': '30 Jul 2019',\n 'BoxOffice': 'N/A',\n 'Production': 'Marvel Studios',\n 'Website': 'N/A',\n 'Response': 'True'}"
     },
     "metadata": {},
     "output_type": "execute_result",
     "execution_count": 1
    }
   ],
   "source": [
    "import requests\n",
    "\n",
    "\n",
    "response = requests.get('http://www.omdbapi.com/?t=Avengers+Endgame&apikey=a037b0ec')\n",
    "\n",
    "response.json()"
   ]
  }
 ],
 "metadata": {
  "kernelspec": {
   "display_name": "Python 3",
   "language": "python",
   "name": "python3"
  },
  "language_info": {
   "codemirror_mode": {
    "name": "ipython",
    "version": 2
   },
   "file_extension": ".py",
   "mimetype": "text/x-python",
   "name": "python",
   "nbconvert_exporter": "python",
   "pygments_lexer": "ipython2",
   "version": "2.7.6"
  },
  "pycharm": {
   "stem_cell": {
    "cell_type": "raw",
    "source": [],
    "metadata": {
     "collapsed": false
    }
   }
  }
 },
 "nbformat": 4,
 "nbformat_minor": 0
}